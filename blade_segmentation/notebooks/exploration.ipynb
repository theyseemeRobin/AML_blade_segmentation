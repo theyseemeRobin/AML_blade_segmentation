{
 "cells": [
  {
   "cell_type": "markdown",
   "metadata": {},
   "source": [
    "# Exploratory Analysis"
   ]
  },
  {
   "cell_type": "code",
   "execution_count": 7,
   "metadata": {},
   "outputs": [
    {
     "name": "stdout",
     "output_type": "stream",
     "text": [
      "The autoreload extension is already loaded. To reload it, use:\n",
      "  %reload_ext autoreload\n",
      "The dotenv extension is already loaded. To reload it, use:\n",
      "  %reload_ext dotenv\n"
     ]
    }
   ],
   "source": [
    "%load_ext autoreload\n",
    "%autoreload 2\n",
    "%load_ext dotenv\n",
    "%dotenv ../../.env\n",
    "\n",
    "import os, sys\n",
    "import collections\n",
    "\n",
    "import wandb\n",
    "import pandas as pd\n",
    "\n",
    "from dotenv import load_dotenv\n",
    "load_dotenv()\n",
    "\n",
    "sys.path.append(os.path.abspath('../src'))\n",
    "\n",
    "from file_handler import download_data"
   ]
  },
  {
   "cell_type": "code",
   "execution_count": null,
   "metadata": {},
   "outputs": [
    {
     "name": "stdout",
     "output_type": "stream",
     "text": [
      "Data already downloaded.\n"
     ]
    }
   ],
   "source": [
    "download_data(\"../data\")"
   ]
  },
  {
   "cell_type": "markdown",
   "metadata": {},
   "source": [
    "From a glance, we have optical - thermal videos and images. There is a test-dev set presumably for debugging with a much larger trainval set"
   ]
  },
  {
   "cell_type": "code",
   "execution_count": 13,
   "metadata": {},
   "outputs": [
    {
     "name": "stdout",
     "output_type": "stream",
     "text": [
      "Number of folders in test-dev: 6\n",
      "Total number of files in test-dev: 1675\n",
      "Number of folders in trainval: 30\n",
      "Total number of files in trainval: 8714\n"
     ]
    }
   ],
   "source": [
    "def get_number_of_files_in_folder(folder):\n",
    "    counter = collections.Counter()\n",
    "    for root, dirs, files in os.walk(f\"../data/Images/{folder}/Optical\"):\n",
    "        for dir in dirs:\n",
    "            counter[dir] += len(os.listdir(os.path.join(root, dir)))\n",
    "    \n",
    "    print(f'Number of folders in {folder}: {len(counter)}')\n",
    "    \n",
    "    # Total number of files\n",
    "    total = sum(counter.values())\n",
    "        \n",
    "    print(f'Total number of files in {folder}: {total}')\n",
    "    \n",
    "    return counter\n",
    "\n",
    "\n",
    "dev_counter = get_number_of_files_in_folder('test-dev')\n",
    "train_counter = get_number_of_files_in_folder('trainval')"
   ]
  },
  {
   "cell_type": "markdown",
   "metadata": {},
   "source": [
    "## Evaluation Testing"
   ]
  },
  {
   "cell_type": "code",
   "execution_count": 2,
   "metadata": {},
   "outputs": [],
   "source": [
    "from vos_benchmark.benchmark import benchmark"
   ]
  },
  {
   "cell_type": "code",
   "execution_count": 13,
   "metadata": {},
   "outputs": [
    {
     "name": "stdout",
     "output_type": "stream",
     "text": [
      "We are *SKIPPING* the evaluation of the first and the last frame (standard for semi-supervised video object segmentation).\n",
      "In dataset ../data/optic_thermal/Images/trainval/val/DAVIS_Masks, we are evaluating on 3 videos: ['Mavic1_DJI_0872', 'Mavic1_DJI_0876', 'Mavic1_DJI_0882']\n"
     ]
    },
    {
     "name": "stderr",
     "output_type": "stream",
     "text": [
      "100%|██████████| 3/3 [00:13<00:00,  4.48s/it]"
     ]
    },
    {
     "name": "stdout",
     "output_type": "stream",
     "text": [
      "sequence        obj   J&F     J     F\n",
      "Global score         11.1  6.3  15.9\n",
      "Mavic1_DJI_0872 001  11.6   7.5  15.8\n",
      "Mavic1_DJI_0876 001  18.1  10.7  25.5\n",
      "Mavic1_DJI_0882 001   3.6   0.7   6.5\n",
      "\n",
      "Summary:\n",
      "Global score: J&F: 11.1 J: 6.3 F: 15.9\n",
      "Time taken: 13.48s\n",
      "J: [11.115216914350716], JF: [6.2982486238266695], F: [15.932185204874763]\n"
     ]
    },
    {
     "name": "stderr",
     "output_type": "stream",
     "text": [
      "\n"
     ]
    }
   ],
   "source": [
    "gt_dir = \"../data/optic_thermal/Images/trainval/val/DAVIS_Masks\"\n",
    "pred_dir = \"../results/2025-01-25_17-46-41/results/Annotations\"\n",
    "\n",
    "results = benchmark([gt_dir], [pred_dir])\n",
    "\n",
    "J, JF, F = results[:3]\n",
    "print(f\"J: {J}, JF: {JF}, F: {F}\")"
   ]
  },
  {
   "cell_type": "markdown",
   "metadata": {},
   "source": [
    "## Report Tables"
   ]
  },
  {
   "cell_type": "code",
   "execution_count": 95,
   "metadata": {},
   "outputs": [],
   "source": [
    "# Some old code I made\n",
    "def access_wandb_runs(entity=None, \n",
    "                      project=\"aml-blade-clustering\", \n",
    "                      filters={}, get_baseline=False,\n",
    "                      override=False):\n",
    "    \"\"\"\n",
    "    Retrieve and analyze runs from a Weights & Biases project\n",
    "    \n",
    "    Parameters:\n",
    "    - entity: Your wandb username or team name\n",
    "    - project: The project containing your runs\n",
    "    - filters: Optional dictionary to filter runs\n",
    "    \n",
    "    Returns:\n",
    "    - List of run objects with their details\n",
    "    \"\"\"\n",
    "    # Initialize the wandb API\n",
    "    api = wandb.Api()\n",
    "    \n",
    "    # Get the entity from the environment variable if not provided\n",
    "    if entity is None:\n",
    "        \n",
    "        if os.getenv(\"WANDB_ENTITY\") is None:\n",
    "            raise ValueError(\"Please provide an entity or set the WANDB_ENTITY environment variable. This is your wandb username or team name\")\n",
    "        \n",
    "        entity = os.getenv(\"WANDB_ENTITY\")\n",
    "    \n",
    "    # Default filters\n",
    "    if filters is not None and not override:\n",
    "        additional_filters = {\n",
    "            'created_at' : {\n",
    "                '$gte': '2025-02-01T00:00:00Z'    \n",
    "            },\n",
    "            'state': 'finished'\n",
    "        }\n",
    "        filters = {**filters, **additional_filters}\n",
    "    \n",
    "    # Fetch runs from the specified project\n",
    "    runs = api.runs(\n",
    "        path=f\"{entity}/{project}\", \n",
    "        filters=filters\n",
    "    )\n",
    "    \n",
    "    return runs"
   ]
  },
  {
   "cell_type": "code",
   "execution_count": 71,
   "metadata": {},
   "outputs": [
    {
     "name": "stdout",
     "output_type": "stream",
     "text": [
      "{'config.clustering_algorithm': 'kmeans', 'created_at': {'$gte': '2025-02-01T00:00:00Z'}, 'state': 'finished'}\n"
     ]
    }
   ],
   "source": [
    "runs = access_wandb_runs(filters={'config.clustering_algorithm': 'kmeans'})\n",
    "\n",
    "kmeans_df = pd.DataFrame()\n",
    "\n",
    "metrics_to_collect = ['Boundary F Measure', 'Mean', 'Region Similarity', 'Frames per Second']\n",
    "\n",
    "for run in runs:\n",
    "    metrics = run.summaryMetrics\n",
    "    metrics = {k: v for k, v in metrics.items() if k in metrics_to_collect}\n",
    "    \n",
    "    num_iterations = run.config['n_iter']\n",
    "    \n",
    "    # Concat\n",
    "    kmeans_df = pd.concat([kmeans_df, pd.DataFrame({\n",
    "        **metrics,\n",
    "        'num_iter': [num_iterations]\n",
    "    })])"
   ]
  },
  {
   "cell_type": "code",
   "execution_count": 58,
   "metadata": {},
   "outputs": [],
   "source": [
    "symbol_map = {\n",
    "    'Region Similarity': '$\\mathcal{J}$',\n",
    "    'Mean': '$\\mathcal{J}\\&\\mathcal{F}$',\n",
    "    'Boundary F Measure': '$\\mathcal{F}$',\n",
    "    'Frames per Second': 'FPS',\n",
    "}"
   ]
  },
  {
   "cell_type": "code",
   "execution_count": 59,
   "metadata": {},
   "outputs": [],
   "source": [
    "# Put Num Iterations first, then J, JF, F, FPS\n",
    "kmeans_df = kmeans_df[['num_iter', 'Region Similarity', 'Mean', 'Boundary F Measure', 'Frames per Second']]\n",
    "\n",
    "# Create copy\n",
    "latex_df = kmeans_df.copy()\n",
    "\n",
    "# Round to 2 decimal places\n",
    "latex_df = latex_df.round(2)\n",
    "\n",
    "# Rename num_iter to Iterations\n",
    "latex_df = latex_df.rename(columns={'num_iter': 'Iterations'})\n",
    "\n",
    "# Rename using symbol map\n",
    "latex_df = latex_df.rename(columns=symbol_map)\n",
    "\n",
    "# Change fps to FPS\n",
    "latex_df = latex_df.rename(columns={'fps': 'FPS'})"
   ]
  },
  {
   "cell_type": "code",
   "execution_count": 60,
   "metadata": {},
   "outputs": [
    {
     "name": "stdout",
     "output_type": "stream",
     "text": [
      "\\begin{tabular}{rrrrr}\n",
      "\\toprule\n",
      "Iterations & $\\mathcal{J}$ & $\\mathcal{J}\\&\\mathcal{F}$ & $\\mathcal{F}$ & FPS \\\\\n",
      "\\midrule\n",
      "2 & 16.60 & 24.43 & 8.78 & 43.38 \\\\\n",
      "4 & 13.06 & 16.33 & 9.79 & 42.61 \\\\\n",
      "8 & 19.00 & 27.59 & 10.40 & 37.14 \\\\\n",
      "16 & 19.10 & 27.62 & 10.58 & 31.52 \\\\\n",
      "\\bottomrule\n",
      "\\end{tabular}\n",
      "\n"
     ]
    }
   ],
   "source": [
    "# Latex\n",
    "print(latex_df.to_latex(index=False, float_format=\"%.2f\"))"
   ]
  },
  {
   "cell_type": "markdown",
   "metadata": {},
   "source": [
    "## Algorithm Comparison"
   ]
  },
  {
   "cell_type": "code",
   "execution_count": 77,
   "metadata": {},
   "outputs": [
    {
     "name": "stdout",
     "output_type": "stream",
     "text": [
      "{'created_at': {'$gte': '2025-02-01T00:00:00Z'}, 'state': 'finished'}\n"
     ]
    },
    {
     "data": {
      "text/html": [
       "<div>\n",
       "<style scoped>\n",
       "    .dataframe tbody tr th:only-of-type {\n",
       "        vertical-align: middle;\n",
       "    }\n",
       "\n",
       "    .dataframe tbody tr th {\n",
       "        vertical-align: top;\n",
       "    }\n",
       "\n",
       "    .dataframe thead th {\n",
       "        text-align: right;\n",
       "    }\n",
       "</style>\n",
       "<table border=\"1\" class=\"dataframe\">\n",
       "  <thead>\n",
       "    <tr style=\"text-align: right;\">\n",
       "      <th></th>\n",
       "      <th>val/F</th>\n",
       "      <th>val/J</th>\n",
       "      <th>val/JF</th>\n",
       "      <th>val/fps</th>\n",
       "      <th>clustering_algorithm</th>\n",
       "      <th>use_bgs</th>\n",
       "      <th>Boundary F Measure</th>\n",
       "      <th>Frames per Second</th>\n",
       "      <th>Mean</th>\n",
       "      <th>Region Similarity</th>\n",
       "    </tr>\n",
       "  </thead>\n",
       "  <tbody>\n",
       "    <tr>\n",
       "      <th>0</th>\n",
       "      <td>18.634423</td>\n",
       "      <td>15.696718</td>\n",
       "      <td>12.759012</td>\n",
       "      <td>37.412723</td>\n",
       "      <td>kmeans</td>\n",
       "      <td>False</td>\n",
       "      <td>NaN</td>\n",
       "      <td>NaN</td>\n",
       "      <td>NaN</td>\n",
       "      <td>NaN</td>\n",
       "    </tr>\n",
       "    <tr>\n",
       "      <th>0</th>\n",
       "      <td>20.498714</td>\n",
       "      <td>28.574470</td>\n",
       "      <td>36.650225</td>\n",
       "      <td>37.798657</td>\n",
       "      <td>kmeans</td>\n",
       "      <td>True</td>\n",
       "      <td>NaN</td>\n",
       "      <td>NaN</td>\n",
       "      <td>NaN</td>\n",
       "      <td>NaN</td>\n",
       "    </tr>\n",
       "    <tr>\n",
       "      <th>0</th>\n",
       "      <td>0.000000</td>\n",
       "      <td>4.019031</td>\n",
       "      <td>8.038062</td>\n",
       "      <td>17.431185</td>\n",
       "      <td>hierarchical</td>\n",
       "      <td>False</td>\n",
       "      <td>NaN</td>\n",
       "      <td>NaN</td>\n",
       "      <td>NaN</td>\n",
       "      <td>NaN</td>\n",
       "    </tr>\n",
       "    <tr>\n",
       "      <th>0</th>\n",
       "      <td>4.411750</td>\n",
       "      <td>5.937526</td>\n",
       "      <td>7.463301</td>\n",
       "      <td>17.125018</td>\n",
       "      <td>hierarchical</td>\n",
       "      <td>True</td>\n",
       "      <td>NaN</td>\n",
       "      <td>NaN</td>\n",
       "      <td>NaN</td>\n",
       "      <td>NaN</td>\n",
       "    </tr>\n",
       "    <tr>\n",
       "      <th>0</th>\n",
       "      <td>NaN</td>\n",
       "      <td>NaN</td>\n",
       "      <td>NaN</td>\n",
       "      <td>NaN</td>\n",
       "      <td>bgs</td>\n",
       "      <td>True</td>\n",
       "      <td>35.270781</td>\n",
       "      <td>564.294677</td>\n",
       "      <td>15.213037</td>\n",
       "      <td>25.241909</td>\n",
       "    </tr>\n",
       "  </tbody>\n",
       "</table>\n",
       "</div>"
      ],
      "text/plain": [
       "       val/F      val/J     val/JF    val/fps clustering_algorithm  use_bgs  \\\n",
       "0  18.634423  15.696718  12.759012  37.412723               kmeans    False   \n",
       "0  20.498714  28.574470  36.650225  37.798657               kmeans     True   \n",
       "0   0.000000   4.019031   8.038062  17.431185         hierarchical    False   \n",
       "0   4.411750   5.937526   7.463301  17.125018         hierarchical     True   \n",
       "0        NaN        NaN        NaN        NaN                  bgs     True   \n",
       "\n",
       "   Boundary F Measure  Frames per Second       Mean  Region Similarity  \n",
       "0                 NaN                NaN        NaN                NaN  \n",
       "0                 NaN                NaN        NaN                NaN  \n",
       "0                 NaN                NaN        NaN                NaN  \n",
       "0                 NaN                NaN        NaN                NaN  \n",
       "0           35.270781         564.294677  15.213037          25.241909  "
      ]
     },
     "execution_count": 77,
     "metadata": {},
     "output_type": "execute_result"
    }
   ],
   "source": [
    "# Created before 2:35 AM on 2025-02-02\n",
    "filter = {\n",
    "    'created_at': {\n",
    "        '$lte': '2025-02-02T02:35:00Z'\n",
    "    }\n",
    "}\n",
    "\n",
    "metrics_to_collect_cluster = ['val/F', 'val/J', 'val/JF', 'val/fps']\n",
    "\n",
    "runs = access_wandb_runs(project=\"blade_segmentation_report\", filters=filter)\n",
    "\n",
    "algorithm_df = pd.DataFrame()\n",
    "\n",
    "for run in runs:\n",
    "    \n",
    "    \n",
    "    metrics = run.summaryMetrics\n",
    "    \n",
    "    # Ternary operator, I should have been cleaner from the start\n",
    "    collection = metrics_to_collect if run.name == 'laced-night-9' else metrics_to_collect_cluster\n",
    "    \n",
    "    metrics = {k: v for k, v in metrics.items() if k in collection}\n",
    "    \n",
    "    # Get clustering_algorithm\n",
    "    clustering_algorithm = run.config['clustering_algorithm']\n",
    "    \n",
    "    # Get use_bgs\n",
    "    use_bgs = run.config['use_bgs']\n",
    "    \n",
    "    # Concat\n",
    "    algorithm_df = pd.concat([algorithm_df, pd.DataFrame({\n",
    "        **metrics,\n",
    "        'clustering_algorithm': [clustering_algorithm],\n",
    "        'use_bgs': [use_bgs]\n",
    "    })])\n",
    "    \n",
    "algorithm_df"
   ]
  },
  {
   "cell_type": "code",
   "execution_count": 84,
   "metadata": {},
   "outputs": [
    {
     "data": {
      "text/html": [
       "<div>\n",
       "<style scoped>\n",
       "    .dataframe tbody tr th:only-of-type {\n",
       "        vertical-align: middle;\n",
       "    }\n",
       "\n",
       "    .dataframe tbody tr th {\n",
       "        vertical-align: top;\n",
       "    }\n",
       "\n",
       "    .dataframe thead th {\n",
       "        text-align: right;\n",
       "    }\n",
       "</style>\n",
       "<table border=\"1\" class=\"dataframe\">\n",
       "  <thead>\n",
       "    <tr style=\"text-align: right;\">\n",
       "      <th></th>\n",
       "      <th>Boundary F Measure</th>\n",
       "      <th>Region Similarity</th>\n",
       "      <th>Mean</th>\n",
       "      <th>Frames per Second</th>\n",
       "      <th>clustering_algorithm</th>\n",
       "      <th>use_bgs</th>\n",
       "    </tr>\n",
       "  </thead>\n",
       "  <tbody>\n",
       "    <tr>\n",
       "      <th>0</th>\n",
       "      <td>18.63</td>\n",
       "      <td>15.70</td>\n",
       "      <td>12.76</td>\n",
       "      <td>37.41</td>\n",
       "      <td>kmeans</td>\n",
       "      <td>False</td>\n",
       "    </tr>\n",
       "    <tr>\n",
       "      <th>0</th>\n",
       "      <td>20.50</td>\n",
       "      <td>28.57</td>\n",
       "      <td>36.65</td>\n",
       "      <td>37.80</td>\n",
       "      <td>kmeans</td>\n",
       "      <td>True</td>\n",
       "    </tr>\n",
       "    <tr>\n",
       "      <th>0</th>\n",
       "      <td>0.00</td>\n",
       "      <td>4.02</td>\n",
       "      <td>8.04</td>\n",
       "      <td>17.43</td>\n",
       "      <td>hierarchical</td>\n",
       "      <td>False</td>\n",
       "    </tr>\n",
       "    <tr>\n",
       "      <th>0</th>\n",
       "      <td>4.41</td>\n",
       "      <td>5.94</td>\n",
       "      <td>7.46</td>\n",
       "      <td>17.13</td>\n",
       "      <td>hierarchical</td>\n",
       "      <td>True</td>\n",
       "    </tr>\n",
       "    <tr>\n",
       "      <th>0</th>\n",
       "      <td>35.27</td>\n",
       "      <td>25.24</td>\n",
       "      <td>15.21</td>\n",
       "      <td>564.29</td>\n",
       "      <td>bgs</td>\n",
       "      <td>True</td>\n",
       "    </tr>\n",
       "  </tbody>\n",
       "</table>\n",
       "</div>"
      ],
      "text/plain": [
       "   Boundary F Measure  Region Similarity   Mean  Frames per Second  \\\n",
       "0               18.63              15.70  12.76              37.41   \n",
       "0               20.50              28.57  36.65              37.80   \n",
       "0                0.00               4.02   8.04              17.43   \n",
       "0                4.41               5.94   7.46              17.13   \n",
       "0               35.27              25.24  15.21             564.29   \n",
       "\n",
       "  clustering_algorithm  use_bgs  \n",
       "0               kmeans    False  \n",
       "0               kmeans     True  \n",
       "0         hierarchical    False  \n",
       "0         hierarchical     True  \n",
       "0                  bgs     True  "
      ]
     },
     "execution_count": 84,
     "metadata": {},
     "output_type": "execute_result"
    }
   ],
   "source": [
    "# Step 1: Create mapping dictionary\n",
    "metric_mapping = {\n",
    "    'val/F': 'Boundary F Measure',\n",
    "    'val/J': 'Region Similarity',\n",
    "    'val/JF': 'Mean',\n",
    "    'val/fps': 'Frames per Second'\n",
    "}\n",
    "\n",
    "# Step 2 & 3: Create copies with renamed columns\n",
    "metrics_val = algorithm_df[list(metric_mapping.keys())].rename(columns=metric_mapping)\n",
    "metrics_direct = algorithm_df[list(metric_mapping.values())]\n",
    "\n",
    "# Step 4: Combine metrics using coalesce\n",
    "combined_metrics = pd.DataFrame()\n",
    "for new_col in metric_mapping.values():\n",
    "    combined_metrics[new_col] = metrics_val[new_col].combine_first(metrics_direct[new_col])\n",
    "\n",
    "# Add algorithm info\n",
    "result_df = pd.concat([\n",
    "    combined_metrics,\n",
    "    algorithm_df[['clustering_algorithm', 'use_bgs']]\n",
    "], axis=1)\n",
    "\n",
    "# Round to 2 decimal places\n",
    "result_df = result_df.round(2)\n",
    "\n",
    "# Print result\n",
    "result_df"
   ]
  },
  {
   "cell_type": "code",
   "execution_count": 92,
   "metadata": {},
   "outputs": [
    {
     "data": {
      "text/html": [
       "<div>\n",
       "<style scoped>\n",
       "    .dataframe tbody tr th:only-of-type {\n",
       "        vertical-align: middle;\n",
       "    }\n",
       "\n",
       "    .dataframe tbody tr th {\n",
       "        vertical-align: top;\n",
       "    }\n",
       "\n",
       "    .dataframe thead th {\n",
       "        text-align: right;\n",
       "    }\n",
       "</style>\n",
       "<table border=\"1\" class=\"dataframe\">\n",
       "  <thead>\n",
       "    <tr style=\"text-align: right;\">\n",
       "      <th></th>\n",
       "      <th>Algorithm</th>\n",
       "      <th>Use BGS</th>\n",
       "      <th>$\\mathcal{J}$</th>\n",
       "      <th>$\\mathcal{J}\\&amp;\\mathcal{F}$</th>\n",
       "      <th>$\\mathcal{F}$</th>\n",
       "      <th>FPS</th>\n",
       "    </tr>\n",
       "  </thead>\n",
       "  <tbody>\n",
       "    <tr>\n",
       "      <th>0</th>\n",
       "      <td>BGS</td>\n",
       "      <td>True</td>\n",
       "      <td>25.24</td>\n",
       "      <td>15.21</td>\n",
       "      <td>35.27</td>\n",
       "      <td>564.29</td>\n",
       "    </tr>\n",
       "    <tr>\n",
       "      <th>0</th>\n",
       "      <td>Hierarchical</td>\n",
       "      <td>False</td>\n",
       "      <td>4.02</td>\n",
       "      <td>8.04</td>\n",
       "      <td>0.00</td>\n",
       "      <td>17.43</td>\n",
       "    </tr>\n",
       "    <tr>\n",
       "      <th>0</th>\n",
       "      <td>Hierarchical</td>\n",
       "      <td>True</td>\n",
       "      <td>5.94</td>\n",
       "      <td>7.46</td>\n",
       "      <td>4.41</td>\n",
       "      <td>17.13</td>\n",
       "    </tr>\n",
       "    <tr>\n",
       "      <th>0</th>\n",
       "      <td>K-Means</td>\n",
       "      <td>False</td>\n",
       "      <td>15.70</td>\n",
       "      <td>12.76</td>\n",
       "      <td>18.63</td>\n",
       "      <td>37.41</td>\n",
       "    </tr>\n",
       "    <tr>\n",
       "      <th>0</th>\n",
       "      <td>K-Means</td>\n",
       "      <td>True</td>\n",
       "      <td>28.57</td>\n",
       "      <td>36.65</td>\n",
       "      <td>20.50</td>\n",
       "      <td>37.80</td>\n",
       "    </tr>\n",
       "  </tbody>\n",
       "</table>\n",
       "</div>"
      ],
      "text/plain": [
       "      Algorithm  Use BGS  $\\mathcal{J}$  $\\mathcal{J}\\&\\mathcal{F}$  \\\n",
       "0           BGS     True          25.24                       15.21   \n",
       "0  Hierarchical    False           4.02                        8.04   \n",
       "0  Hierarchical     True           5.94                        7.46   \n",
       "0       K-Means    False          15.70                       12.76   \n",
       "0       K-Means     True          28.57                       36.65   \n",
       "\n",
       "   $\\mathcal{F}$     FPS  \n",
       "0          35.27  564.29  \n",
       "0           0.00   17.43  \n",
       "0           4.41   17.13  \n",
       "0          18.63   37.41  \n",
       "0          20.50   37.80  "
      ]
     },
     "execution_count": 92,
     "metadata": {},
     "output_type": "execute_result"
    }
   ],
   "source": [
    "# Rename using symbol map\n",
    "latex_df = result_df.rename(columns=symbol_map)\n",
    "\n",
    "# Change fps to FPS\n",
    "latex_df = latex_df.rename(columns={'fps': 'FPS'})\n",
    "\n",
    "# Rename use_bgs to Use BGS\n",
    "latex_df = latex_df.rename(columns={'use_bgs': 'Use BGS'})\n",
    "\n",
    "# Rename clustering_algorithm to Algorithm\n",
    "latex_df = latex_df.rename(columns={'clustering_algorithm': 'Algorithm'})\n",
    "\n",
    "# In clustering_algorithm, replace kmeans with K-Means, hierarchical with Hierarchical and bgs with Background Subtractor\n",
    "latex_df['Algorithm'] = latex_df['Algorithm'].replace({\n",
    "    'kmeans': 'K-Means',\n",
    "    'hierarchical': 'Hierarchical',\n",
    "    'bgs': 'BGS'\n",
    "})\n",
    "\n",
    "# Reorder columns, put Algorithm and Use BGS first, then the others following the symbol map\n",
    "latex_df = latex_df[['Algorithm', 'Use BGS', '$\\mathcal{J}$', '$\\mathcal{J}\\&\\mathcal{F}$', '$\\mathcal{F}$', 'FPS']]\n",
    "\n",
    "# Put the Background Subtractor algorithm first\n",
    "latex_df = latex_df.sort_values(by='Algorithm', ascending=True)\n",
    "\n",
    "latex_df"
   ]
  },
  {
   "cell_type": "code",
   "execution_count": 93,
   "metadata": {},
   "outputs": [
    {
     "name": "stdout",
     "output_type": "stream",
     "text": [
      "\\begin{tabular}{lrrrrr}\n",
      "\\toprule\n",
      "Algorithm & Use BGS & $\\mathcal{J}$ & $\\mathcal{J}\\&\\mathcal{F}$ & $\\mathcal{F}$ & FPS \\\\\n",
      "\\midrule\n",
      "BGS & True & 25.24 & 15.21 & 35.27 & 564.29 \\\\\n",
      "Hierarchical & False & 4.02 & 8.04 & 0.00 & 17.43 \\\\\n",
      "Hierarchical & True & 5.94 & 7.46 & 4.41 & 17.13 \\\\\n",
      "K-Means & False & 15.70 & 12.76 & 18.63 & 37.41 \\\\\n",
      "K-Means & True & 28.57 & 36.65 & 20.50 & 37.80 \\\\\n",
      "\\bottomrule\n",
      "\\end{tabular}\n",
      "\n"
     ]
    }
   ],
   "source": [
    "print(latex_df.to_latex(index=False, float_format=\"%.2f\"))"
   ]
  },
  {
   "cell_type": "markdown",
   "metadata": {},
   "source": [
    "## Test Set"
   ]
  },
  {
   "cell_type": "code",
   "execution_count": 106,
   "metadata": {},
   "outputs": [
    {
     "data": {
      "text/html": [
       "<div>\n",
       "<style scoped>\n",
       "    .dataframe tbody tr th:only-of-type {\n",
       "        vertical-align: middle;\n",
       "    }\n",
       "\n",
       "    .dataframe tbody tr th {\n",
       "        vertical-align: top;\n",
       "    }\n",
       "\n",
       "    .dataframe thead th {\n",
       "        text-align: right;\n",
       "    }\n",
       "</style>\n",
       "<table border=\"1\" class=\"dataframe\">\n",
       "  <thead>\n",
       "    <tr style=\"text-align: right;\">\n",
       "      <th></th>\n",
       "      <th>Boundary F Measure</th>\n",
       "      <th>Frames per Second</th>\n",
       "      <th>Mean</th>\n",
       "      <th>Region Similarity</th>\n",
       "    </tr>\n",
       "  </thead>\n",
       "  <tbody>\n",
       "    <tr>\n",
       "      <th>0</th>\n",
       "      <td>13.796672</td>\n",
       "      <td>37.717932</td>\n",
       "      <td>36.57981</td>\n",
       "      <td>25.188241</td>\n",
       "    </tr>\n",
       "  </tbody>\n",
       "</table>\n",
       "</div>"
      ],
      "text/plain": [
       "   Boundary F Measure  Frames per Second      Mean  Region Similarity\n",
       "0           13.796672          37.717932  36.57981          25.188241"
      ]
     },
     "execution_count": 106,
     "metadata": {},
     "output_type": "execute_result"
    }
   ],
   "source": [
    "runs = access_wandb_runs(project=\"blade_segmentation_report\", filters=filter, override=False)\n",
    "\n",
    "test_df = pd.DataFrame()\n",
    "\n",
    "for run in runs:\n",
    "    \n",
    "    metrics = run.summaryMetrics\n",
    "    if run.name == 'astral-yogurt-10':\n",
    "        result = {k: v for k, v in metrics.items() if k in metrics_to_collect}\n",
    "        break\n",
    "        \n",
    "# Concat\n",
    "test_df = pd.concat([test_df, pd.DataFrame(result, index=[0])])\n",
    "\n",
    "test_df"
   ]
  },
  {
   "cell_type": "code",
   "execution_count": 111,
   "metadata": {},
   "outputs": [
    {
     "data": {
      "text/html": [
       "<div>\n",
       "<style scoped>\n",
       "    .dataframe tbody tr th:only-of-type {\n",
       "        vertical-align: middle;\n",
       "    }\n",
       "\n",
       "    .dataframe tbody tr th {\n",
       "        vertical-align: top;\n",
       "    }\n",
       "\n",
       "    .dataframe thead th {\n",
       "        text-align: right;\n",
       "    }\n",
       "</style>\n",
       "<table border=\"1\" class=\"dataframe\">\n",
       "  <thead>\n",
       "    <tr style=\"text-align: right;\">\n",
       "      <th></th>\n",
       "      <th>$\\mathcal{J}$</th>\n",
       "      <th>$\\mathcal{J}\\&amp;\\mathcal{F}$</th>\n",
       "      <th>$\\mathcal{F}$</th>\n",
       "    </tr>\n",
       "  </thead>\n",
       "  <tbody>\n",
       "    <tr>\n",
       "      <th>0</th>\n",
       "      <td>25.19</td>\n",
       "      <td>36.58</td>\n",
       "      <td>13.8</td>\n",
       "    </tr>\n",
       "  </tbody>\n",
       "</table>\n",
       "</div>"
      ],
      "text/plain": [
       "   $\\mathcal{J}$  $\\mathcal{J}\\&\\mathcal{F}$  $\\mathcal{F}$\n",
       "0          25.19                       36.58           13.8"
      ]
     },
     "execution_count": 111,
     "metadata": {},
     "output_type": "execute_result"
    }
   ],
   "source": [
    "latex_df = test_df.copy()\n",
    "\n",
    "# Rearrange columns\n",
    "latex_df = latex_df[['Region Similarity', 'Mean', 'Boundary F Measure', 'Frames per Second']]\n",
    "\n",
    "# Round to 2 decimal places\n",
    "latex_df = latex_df.round(2)\n",
    "\n",
    "# Rename using symbol map\n",
    "latex_df = latex_df.rename(columns=symbol_map)\n",
    "\n",
    "# Drop FPS\n",
    "latex_df = latex_df.drop(columns='FPS')\n",
    "\n",
    "latex_df"
   ]
  },
  {
   "cell_type": "code",
   "execution_count": 112,
   "metadata": {},
   "outputs": [
    {
     "name": "stdout",
     "output_type": "stream",
     "text": [
      "\\begin{tabular}{rrr}\n",
      "\\toprule\n",
      "$\\mathcal{J}$ & $\\mathcal{J}\\&\\mathcal{F}$ & $\\mathcal{F}$ \\\\\n",
      "\\midrule\n",
      "25.19 & 36.58 & 13.80 \\\\\n",
      "\\bottomrule\n",
      "\\end{tabular}\n",
      "\n"
     ]
    }
   ],
   "source": [
    "print(latex_df.to_latex(index=False, float_format=\"%.2f\"))"
   ]
  }
 ],
 "metadata": {
  "kernelspec": {
   "display_name": "drone-segmentation",
   "language": "python",
   "name": "python3"
  },
  "language_info": {
   "codemirror_mode": {
    "name": "ipython",
    "version": 3
   },
   "file_extension": ".py",
   "mimetype": "text/x-python",
   "name": "python",
   "nbconvert_exporter": "python",
   "pygments_lexer": "ipython3",
   "version": "3.11.11"
  }
 },
 "nbformat": 4,
 "nbformat_minor": 2
}
