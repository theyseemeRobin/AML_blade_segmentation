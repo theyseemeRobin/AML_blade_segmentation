{
 "cells": [
  {
   "cell_type": "markdown",
   "metadata": {},
   "source": [
    "# Exploratory Analysis"
   ]
  },
  {
   "cell_type": "code",
   "execution_count": null,
   "metadata": {},
   "outputs": [
    {
     "name": "stdout",
     "output_type": "stream",
     "text": [
      "1efUIQ6VoVKe0eB5S7JhGeMnZu44H3GZH\n"
     ]
    }
   ],
   "source": [
    "%load_ext autoreload\n",
    "%autoreload 2\n",
    "%load_ext dotenv\n",
    "%dotenv ../../.env\n",
    "\n",
    "import os, sys\n",
    "import collections\n",
    "\n",
    "sys.path.append(os.path.abspath('../src'))\n",
    "\n",
    "from file_handler import download_data"
   ]
  },
  {
   "cell_type": "code",
   "execution_count": null,
   "metadata": {},
   "outputs": [
    {
     "name": "stdout",
     "output_type": "stream",
     "text": [
      "Data already downloaded.\n"
     ]
    }
   ],
   "source": [
    "download_data(\"../data\")"
   ]
  },
  {
   "cell_type": "markdown",
   "metadata": {},
   "source": [
    "From a glance, we have optical - thermal videos and images. There is a test-dev set presumably for debugging with a much larger trainval set"
   ]
  },
  {
   "cell_type": "code",
   "execution_count": 13,
   "metadata": {},
   "outputs": [
    {
     "name": "stdout",
     "output_type": "stream",
     "text": [
      "Number of folders in test-dev: 6\n",
      "Total number of files in test-dev: 1675\n",
      "Number of folders in trainval: 30\n",
      "Total number of files in trainval: 8714\n"
     ]
    }
   ],
   "source": [
    "def get_number_of_files_in_folder(folder):\n",
    "    counter = collections.Counter()\n",
    "    for root, dirs, files in os.walk(f\"../data/Images/{folder}/Optical\"):\n",
    "        for dir in dirs:\n",
    "            counter[dir] += len(os.listdir(os.path.join(root, dir)))\n",
    "    \n",
    "    print(f'Number of folders in {folder}: {len(counter)}')\n",
    "    \n",
    "    # Total number of files\n",
    "    total = sum(counter.values())\n",
    "        \n",
    "    print(f'Total number of files in {folder}: {total}')\n",
    "    \n",
    "    return counter\n",
    "\n",
    "\n",
    "dev_counter = get_number_of_files_in_folder('test-dev')\n",
    "train_counter = get_number_of_files_in_folder('trainval')"
   ]
  }
 ],
 "metadata": {
  "kernelspec": {
   "display_name": "drone-segmentation",
   "language": "python",
   "name": "python3"
  },
  "language_info": {
   "codemirror_mode": {
    "name": "ipython",
    "version": 3
   },
   "file_extension": ".py",
   "mimetype": "text/x-python",
   "name": "python",
   "nbconvert_exporter": "python",
   "pygments_lexer": "ipython3",
   "version": "3.11.11"
  }
 },
 "nbformat": 4,
 "nbformat_minor": 2
}
