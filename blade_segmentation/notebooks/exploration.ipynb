{
 "cells": [
  {
   "cell_type": "markdown",
   "metadata": {},
   "source": [
    "# Exploratory Analysis"
   ]
  },
  {
   "cell_type": "code",
   "execution_count": 1,
   "metadata": {},
   "outputs": [],
   "source": [
    "%load_ext autoreload\n",
    "%autoreload 2\n",
    "%load_ext dotenv\n",
    "%dotenv ../../.env\n",
    "\n",
    "import os, sys\n",
    "import collections\n",
    "\n",
    "sys.path.append(os.path.abspath('../src'))\n",
    "\n",
    "from file_handler import download_data"
   ]
  },
  {
   "cell_type": "code",
   "execution_count": null,
   "metadata": {},
   "outputs": [
    {
     "name": "stdout",
     "output_type": "stream",
     "text": [
      "Data already downloaded.\n"
     ]
    }
   ],
   "source": [
    "download_data(\"../data\")"
   ]
  },
  {
   "cell_type": "markdown",
   "metadata": {},
   "source": [
    "From a glance, we have optical - thermal videos and images. There is a test-dev set presumably for debugging with a much larger trainval set"
   ]
  },
  {
   "cell_type": "code",
   "execution_count": 13,
   "metadata": {},
   "outputs": [
    {
     "name": "stdout",
     "output_type": "stream",
     "text": [
      "Number of folders in test-dev: 6\n",
      "Total number of files in test-dev: 1675\n",
      "Number of folders in trainval: 30\n",
      "Total number of files in trainval: 8714\n"
     ]
    }
   ],
   "source": [
    "def get_number_of_files_in_folder(folder):\n",
    "    counter = collections.Counter()\n",
    "    for root, dirs, files in os.walk(f\"../data/Images/{folder}/Optical\"):\n",
    "        for dir in dirs:\n",
    "            counter[dir] += len(os.listdir(os.path.join(root, dir)))\n",
    "    \n",
    "    print(f'Number of folders in {folder}: {len(counter)}')\n",
    "    \n",
    "    # Total number of files\n",
    "    total = sum(counter.values())\n",
    "        \n",
    "    print(f'Total number of files in {folder}: {total}')\n",
    "    \n",
    "    return counter\n",
    "\n",
    "\n",
    "dev_counter = get_number_of_files_in_folder('test-dev')\n",
    "train_counter = get_number_of_files_in_folder('trainval')"
   ]
  },
  {
   "cell_type": "markdown",
   "metadata": {},
   "source": [
    "## Evaluation Testing"
   ]
  },
  {
   "cell_type": "code",
   "execution_count": 2,
   "metadata": {},
   "outputs": [],
   "source": [
    "from vos_benchmark.benchmark import benchmark"
   ]
  },
  {
   "cell_type": "code",
   "execution_count": 13,
   "metadata": {},
   "outputs": [
    {
     "name": "stdout",
     "output_type": "stream",
     "text": [
      "We are *SKIPPING* the evaluation of the first and the last frame (standard for semi-supervised video object segmentation).\n",
      "In dataset ../data/optic_thermal/Images/trainval/val/DAVIS_Masks, we are evaluating on 3 videos: ['Mavic1_DJI_0872', 'Mavic1_DJI_0876', 'Mavic1_DJI_0882']\n"
     ]
    },
    {
     "name": "stderr",
     "output_type": "stream",
     "text": [
      "100%|██████████| 3/3 [00:13<00:00,  4.48s/it]"
     ]
    },
    {
     "name": "stdout",
     "output_type": "stream",
     "text": [
      "sequence        obj   J&F     J     F\n",
      "Global score         11.1  6.3  15.9\n",
      "Mavic1_DJI_0872 001  11.6   7.5  15.8\n",
      "Mavic1_DJI_0876 001  18.1  10.7  25.5\n",
      "Mavic1_DJI_0882 001   3.6   0.7   6.5\n",
      "\n",
      "Summary:\n",
      "Global score: J&F: 11.1 J: 6.3 F: 15.9\n",
      "Time taken: 13.48s\n",
      "J: [11.115216914350716], JF: [6.2982486238266695], F: [15.932185204874763]\n"
     ]
    },
    {
     "name": "stderr",
     "output_type": "stream",
     "text": [
      "\n"
     ]
    }
   ],
   "source": [
    "gt_dir = \"../data/optic_thermal/Images/trainval/val/DAVIS_Masks\"\n",
    "pred_dir = \"../results/2025-01-25_17-46-41/results/Annotations\"\n",
    "\n",
    "results = benchmark([gt_dir], [pred_dir])\n",
    "\n",
    "J, JF, F = results[:3]\n",
    "print(f\"J: {J}, JF: {JF}, F: {F}\")"
   ]
  }
 ],
 "metadata": {
  "kernelspec": {
   "display_name": "drone-segmentation",
   "language": "python",
   "name": "python3"
  },
  "language_info": {
   "codemirror_mode": {
    "name": "ipython",
    "version": 3
   },
   "file_extension": ".py",
   "mimetype": "text/x-python",
   "name": "python",
   "nbconvert_exporter": "python",
   "pygments_lexer": "ipython3",
   "version": "3.11.11"
  }
 },
 "nbformat": 4,
 "nbformat_minor": 2
}
